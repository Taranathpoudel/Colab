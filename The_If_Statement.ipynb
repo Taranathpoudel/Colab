{
  "nbformat": 4,
  "nbformat_minor": 0,
  "metadata": {
    "colab": {
      "name": "The If Statement.ipynb",
      "provenance": [],
      "authorship_tag": "ABX9TyMUWcDBuV4nl9ywcpl75QU3",
      "include_colab_link": true
    },
    "kernelspec": {
      "name": "python3",
      "display_name": "Python 3"
    },
    "language_info": {
      "name": "python"
    }
  },
  "cells": [
    {
      "cell_type": "markdown",
      "metadata": {
        "id": "view-in-github",
        "colab_type": "text"
      },
      "source": [
        "<a href=\"https://colab.research.google.com/github/Taranathpoudel/Proposals/blob/main/The_If_Statement.ipynb\" target=\"_parent\"><img src=\"https://colab.research.google.com/assets/colab-badge.svg\" alt=\"Open In Colab\"/></a>"
      ]
    },
    {
      "cell_type": "markdown",
      "metadata": {
        "id": "G2R49gV4h44x"
      },
      "source": [
        "# If statement"
      ]
    },
    {
      "cell_type": "code",
      "metadata": {
        "id": "OGaM1Xj4h7Kr"
      },
      "source": [
        "import numpy as np\n",
        "from numpy.random import randn"
      ],
      "execution_count": 2,
      "outputs": []
    },
    {
      "cell_type": "code",
      "metadata": {
        "colab": {
          "base_uri": "https://localhost:8080/"
        },
        "id": "QyP-nNzbh-B_",
        "outputId": "4b9a6b35-1c03-4e47-c2b8-0f9bb1c30c84"
      },
      "source": [
        "randn()"
      ],
      "execution_count": 3,
      "outputs": [
        {
          "output_type": "execute_result",
          "data": {
            "text/plain": [
              "1.0840717973677347"
            ]
          },
          "metadata": {},
          "execution_count": 3
        }
      ]
    },
    {
      "cell_type": "code",
      "metadata": {
        "colab": {
          "base_uri": "https://localhost:8080/"
        },
        "id": "D-A7F6MXiVAT",
        "outputId": "b6813221-756b-4107-d439-509a977306f9"
      },
      "source": [
        "#----1 -----2 ----3 -----4\n",
        "x=randn()\n",
        "if x>1:\n",
        "  answer='The value is greater than 1'\n",
        "  print(x)\n",
        "  print(answer)\n",
        "\n"
      ],
      "execution_count": 22,
      "outputs": [
        {
          "output_type": "stream",
          "name": "stdout",
          "text": [
            "1.3856860786353726\n",
            "The value is greater than 1\n"
          ]
        }
      ]
    },
    {
      "cell_type": "markdown",
      "metadata": {
        "id": "AJUPyUYRj_oG"
      },
      "source": [
        "# The Else Statement"
      ]
    },
    {
      "cell_type": "code",
      "metadata": {
        "colab": {
          "base_uri": "https://localhost:8080/"
        },
        "id": "dDW0km7tkCzd",
        "outputId": "4d01f0fd-c167-4525-8aa9-5d0cbe0e9d3e"
      },
      "source": [
        "#----1 -----2 ----3 -----4\n",
        "x=randn()\n",
        "if x>1:\n",
        "  answer='The value is greater than 1'\n",
        "  print(x)\n",
        "  print(answer)\n",
        "else:\n",
        "  if x >= -1:       \n",
        "      answer='Answer lies between -1 and 1'\n",
        "      print(x)\n",
        "      print(answer)\n",
        "  else:\n",
        "      answer='less than -1'\n",
        "      print(x)\n",
        "      print(answer)\n",
        "    "
      ],
      "execution_count": 44,
      "outputs": [
        {
          "output_type": "stream",
          "name": "stdout",
          "text": [
            "2.6245943273055974\n",
            "The value is greater than 1\n"
          ]
        }
      ]
    },
    {
      "cell_type": "markdown",
      "metadata": {
        "id": "MbQamW_inzpW"
      },
      "source": [
        "# Chained Structure if elif else statement"
      ]
    },
    {
      "cell_type": "code",
      "metadata": {
        "colab": {
          "base_uri": "https://localhost:8080/"
        },
        "id": "gNvB6ZzGn8Ri",
        "outputId": "0b9b29ad-dffc-4098-c490-f710f901b739"
      },
      "source": [
        "x=randn()\n",
        "import math\n",
        "if x>1:\n",
        "  print('Greater Than 1: ',x)\n",
        "elif x>=-1:\n",
        "  print('between -1 and 1: ',x)\n",
        "else:\n",
        "  print('Less Than -1: ',x)"
      ],
      "execution_count": 45,
      "outputs": [
        {
          "output_type": "stream",
          "name": "stdout",
          "text": [
            "between -1 and 1:  0.6892023828861157\n"
          ]
        }
      ]
    }
  ]
}