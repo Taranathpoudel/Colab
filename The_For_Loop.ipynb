{
  "nbformat": 4,
  "nbformat_minor": 0,
  "metadata": {
    "colab": {
      "name": "The For Loop.ipynb",
      "provenance": [],
      "authorship_tag": "ABX9TyPlCDnEfTmFJ+3ldFeG0+aG",
      "include_colab_link": true
    },
    "kernelspec": {
      "name": "python3",
      "display_name": "Python 3"
    },
    "language_info": {
      "name": "python"
    }
  },
  "cells": [
    {
      "cell_type": "markdown",
      "metadata": {
        "id": "view-in-github",
        "colab_type": "text"
      },
      "source": [
        "<a href=\"https://colab.research.google.com/github/Taranathpoudel/Proposals/blob/main/The_For_Loop.ipynb\" target=\"_parent\"><img src=\"https://colab.research.google.com/assets/colab-badge.svg\" alt=\"Open In Colab\"/></a>"
      ]
    },
    {
      "cell_type": "markdown",
      "metadata": {
        "id": "Xl0Sqr57_37_"
      },
      "source": [
        "# For loop\n",
        "\n",
        "Comparision Between While and For Loop\n",
        "\n"
      ]
    },
    {
      "cell_type": "code",
      "metadata": {
        "colab": {
          "base_uri": "https://localhost:8080/"
        },
        "id": "aqCThWIwAAM1",
        "outputId": "37c73945-d9aa-4807-e945-7edbc298b2a8"
      },
      "source": [
        "counter=0\n",
        "while counter<=5:\n",
        "  if counter>3:\n",
        "    print('Good')\n",
        "  print(counter)\n",
        "  counter=counter+1\n",
        "  "
      ],
      "execution_count": 5,
      "outputs": [
        {
          "output_type": "stream",
          "name": "stdout",
          "text": [
            "0\n",
            "1\n",
            "2\n",
            "3\n",
            "Good\n",
            "4\n",
            "Good\n",
            "5\n"
          ]
        }
      ]
    },
    {
      "cell_type": "code",
      "metadata": {
        "colab": {
          "base_uri": "https://localhost:8080/"
        },
        "id": "nGIBX92VABds",
        "outputId": "7f805f9a-047a-42d6-d2ce-13779d8919c1"
      },
      "source": [
        "for i in range(5):\n",
        "  print(\"hello python\")"
      ],
      "execution_count": 3,
      "outputs": [
        {
          "output_type": "stream",
          "name": "stdout",
          "text": [
            "hello python\n",
            "hello python\n",
            "hello python\n",
            "hello python\n",
            "hello python\n"
          ]
        }
      ]
    },
    {
      "cell_type": "code",
      "metadata": {
        "colab": {
          "base_uri": "https://localhost:8080/"
        },
        "id": "-f4tm2v6BNDF",
        "outputId": "3db7a182-efc8-421e-fec3-c33e6b47625a"
      },
      "source": [
        "list(range(5))"
      ],
      "execution_count": 6,
      "outputs": [
        {
          "output_type": "execute_result",
          "data": {
            "text/plain": [
              "[0, 1, 2, 3, 4]"
            ]
          },
          "metadata": {},
          "execution_count": 6
        }
      ]
    },
    {
      "cell_type": "code",
      "metadata": {
        "colab": {
          "base_uri": "https://localhost:8080/"
        },
        "id": "9HdU9RLHCEgF",
        "outputId": "23263fc7-4b80-4fe0-dc8b-7ce2ea7c4ee5"
      },
      "source": [
        "for i in range(5):\n",
        "  print('Hello World',i)"
      ],
      "execution_count": 7,
      "outputs": [
        {
          "output_type": "stream",
          "name": "stdout",
          "text": [
            "Hello World 0\n",
            "Hello World 1\n",
            "Hello World 2\n",
            "Hello World 3\n",
            "Hello World 4\n"
          ]
        }
      ]
    },
    {
      "cell_type": "markdown",
      "metadata": {
        "id": "cDLpgX_ZFNmp"
      },
      "source": [
        "# Working with list"
      ]
    },
    {
      "cell_type": "code",
      "metadata": {
        "id": "O9amNy7NEz_6"
      },
      "source": [
        "mylist=[10,100,1000]"
      ],
      "execution_count": 8,
      "outputs": []
    },
    {
      "cell_type": "code",
      "metadata": {
        "colab": {
          "base_uri": "https://localhost:8080/"
        },
        "id": "jSp1SAm_E5VB",
        "outputId": "71f5b2bb-4f23-4d27-f4b9-a8c41191866c"
      },
      "source": [
        "for j in mylist:\n",
        "  print('j is equal to: ',j)"
      ],
      "execution_count": 9,
      "outputs": [
        {
          "output_type": "stream",
          "name": "stdout",
          "text": [
            "j is equal to:  10\n",
            "j is equal to:  100\n",
            "j is equal to:  1000\n"
          ]
        }
      ]
    },
    {
      "cell_type": "markdown",
      "metadata": {
        "id": "9LbuPcuoFUnC"
      },
      "source": [
        "# Raynolds Experiment"
      ]
    },
    {
      "cell_type": "code",
      "metadata": {
        "colab": {
          "base_uri": "https://localhost:8080/"
        },
        "id": "M4gUVRP7rITV",
        "outputId": "670fa6c9-c0f1-4b02-a8d7-79249e20e599"
      },
      "source": [
        "type(y)"
      ],
      "execution_count": 12,
      "outputs": [
        {
          "output_type": "execute_result",
          "data": {
            "text/plain": [
              "str"
            ]
          },
          "metadata": {},
          "execution_count": 12
        }
      ]
    },
    {
      "cell_type": "code",
      "metadata": {
        "colab": {
          "base_uri": "https://localhost:8080/"
        },
        "id": "BxTjngoVuJvJ",
        "outputId": "a4839754-0f20-479b-d879-0728498c7949"
      },
      "source": [
        "print('Do you know the number?')\n",
        "print('type 1 if you know and 0 if you do not know')\n",
        "x=int(input())\n",
        "b=500000\n",
        "import math\n",
        "if x==1:\n",
        "  print('Enter the number')\n",
        "  if float(input())<=500000:\n",
        "    print('laminar flow')\n",
        "\n",
        "else:\n",
        "  print('turbulent flow')\n",
        "\n",
        "if x==0:\n",
        "  print(\"Enter Velocity, Density, Characteristics length and viscosity respectively: \")\n",
        "  a=int(input())\n",
        "  b=int(input())\n",
        "  c=int(input())\n",
        "  d=int(input())\n",
        "  e=a*b*c\n",
        "  f=e/d\n",
        "  print('The Requires raynolds number is: ',f)\n",
        "  if f<=500000 :\n",
        "    print('laminar flow')\n",
        "  else:\n",
        "    print('turbulent flow')"
      ],
      "execution_count": 28,
      "outputs": [
        {
          "output_type": "stream",
          "name": "stdout",
          "text": [
            "Do you know the number?\n",
            "type 1 if you know and 0 if you do not know\n",
            "0\n",
            "turbulent flow\n",
            "Enter Velocity, Density, Characteristics length and viscosity respectively: \n",
            "40\n",
            "1000\n",
            "30\n",
            "1\n",
            "The Requires raynolds number is:  1200000.0\n",
            "turbulent flow\n"
          ]
        }
      ]
    }
  ]
}