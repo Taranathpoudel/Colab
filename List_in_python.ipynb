{
  "nbformat": 4,
  "nbformat_minor": 0,
  "metadata": {
    "colab": {
      "name": "List in python.ipynb",
      "provenance": [],
      "authorship_tag": "ABX9TyNoR/u1rbSxn7cVW3/89n5U",
      "include_colab_link": true
    },
    "kernelspec": {
      "name": "python3",
      "display_name": "Python 3"
    },
    "language_info": {
      "name": "python"
    }
  },
  "cells": [
    {
      "cell_type": "markdown",
      "metadata": {
        "id": "view-in-github",
        "colab_type": "text"
      },
      "source": [
        "<a href=\"https://colab.research.google.com/github/Taranathpoudel/Proposals/blob/main/List_in_python.ipynb\" target=\"_parent\"><img src=\"https://colab.research.google.com/assets/colab-badge.svg\" alt=\"Open In Colab\"/></a>"
      ]
    },
    {
      "cell_type": "markdown",
      "metadata": {
        "id": "nXgiyLlE7L2i"
      },
      "source": [
        "# Welcome to list"
      ]
    },
    {
      "cell_type": "code",
      "metadata": {
        "id": "izWVIEvI7Or2"
      },
      "source": [
        "Myfirstlist=[1,3,5]"
      ],
      "execution_count": null,
      "outputs": []
    },
    {
      "cell_type": "code",
      "metadata": {
        "colab": {
          "base_uri": "https://localhost:8080/"
        },
        "id": "wMJYX6gg8TFd",
        "outputId": "121e0a80-7ab2-4076-8bec-0a5474c26540"
      },
      "source": [
        "Myfirstlist"
      ],
      "execution_count": null,
      "outputs": [
        {
          "output_type": "execute_result",
          "data": {
            "text/plain": [
              "[1, 3, 5]"
            ]
          },
          "metadata": {},
          "execution_count": 3
        }
      ]
    },
    {
      "cell_type": "code",
      "metadata": {
        "colab": {
          "base_uri": "https://localhost:8080/"
        },
        "id": "8rNeG7ik8WCu",
        "outputId": "bb00b0fb-ddfa-40b2-8aea-7d77d1e4364f"
      },
      "source": [
        "type(Myfirstlist)"
      ],
      "execution_count": null,
      "outputs": [
        {
          "output_type": "execute_result",
          "data": {
            "text/plain": [
              "list"
            ]
          },
          "metadata": {},
          "execution_count": 4
        }
      ]
    },
    {
      "cell_type": "markdown",
      "metadata": {
        "id": "cCjRpbei8lAt"
      },
      "source": [
        "# Variety in lists"
      ]
    },
    {
      "cell_type": "code",
      "metadata": {
        "id": "vW-yU5WO8nqH"
      },
      "source": [
        "l2=['hello',10,False,22.7]"
      ],
      "execution_count": null,
      "outputs": []
    },
    {
      "cell_type": "code",
      "metadata": {
        "colab": {
          "base_uri": "https://localhost:8080/"
        },
        "id": "GEd7biXG8uW1",
        "outputId": "0158e4f5-a2f2-41d7-bafb-611ad140e86d"
      },
      "source": [
        "l2"
      ],
      "execution_count": null,
      "outputs": [
        {
          "output_type": "execute_result",
          "data": {
            "text/plain": [
              "['hello', 10, False, 22.7]"
            ]
          },
          "metadata": {},
          "execution_count": 6
        }
      ]
    },
    {
      "cell_type": "code",
      "metadata": {
        "colab": {
          "base_uri": "https://localhost:8080/"
        },
        "id": "sbBvrdME8vYO",
        "outputId": "be347149-061b-43c7-f758-5f538f94f8cf"
      },
      "source": [
        "type(l2)"
      ],
      "execution_count": null,
      "outputs": [
        {
          "output_type": "execute_result",
          "data": {
            "text/plain": [
              "list"
            ]
          },
          "metadata": {},
          "execution_count": 7
        }
      ]
    },
    {
      "cell_type": "code",
      "metadata": {
        "colab": {
          "base_uri": "https://localhost:8080/"
        },
        "id": "-E6eJQRq9T--",
        "outputId": "a7543a2d-6f0e-4080-810b-9603a8fad52e"
      },
      "source": [
        "range(15)"
      ],
      "execution_count": null,
      "outputs": [
        {
          "output_type": "execute_result",
          "data": {
            "text/plain": [
              "range(0, 15)"
            ]
          },
          "metadata": {},
          "execution_count": 8
        }
      ]
    },
    {
      "cell_type": "markdown",
      "metadata": {
        "id": "2fgf8-pV9mtO"
      },
      "source": [
        "# list Function nested with range"
      ]
    },
    {
      "cell_type": "code",
      "metadata": {
        "colab": {
          "base_uri": "https://localhost:8080/"
        },
        "id": "h5XQ2gZe9W4t",
        "outputId": "7bdb1b39-6b28-4207-ec53-056836962291"
      },
      "source": [
        "list(range(15))"
      ],
      "execution_count": null,
      "outputs": [
        {
          "output_type": "execute_result",
          "data": {
            "text/plain": [
              "[0, 1, 2, 3, 4, 5, 6, 7, 8, 9, 10, 11, 12, 13, 14]"
            ]
          },
          "metadata": {},
          "execution_count": 10
        }
      ]
    },
    {
      "cell_type": "markdown",
      "metadata": {
        "id": "q7dqpN2E-ED9"
      },
      "source": [
        "Assigning Value"
      ]
    },
    {
      "cell_type": "code",
      "metadata": {
        "id": "JKBRgejs-GlM"
      },
      "source": [
        "y=list(range(5))"
      ],
      "execution_count": null,
      "outputs": []
    },
    {
      "cell_type": "code",
      "metadata": {
        "colab": {
          "base_uri": "https://localhost:8080/"
        },
        "id": "bniNmhO8-Lw9",
        "outputId": "2883127b-d332-488e-f194-5fe73fee9092"
      },
      "source": [
        "y"
      ],
      "execution_count": null,
      "outputs": [
        {
          "output_type": "execute_result",
          "data": {
            "text/plain": [
              "[0, 1, 2, 3, 4]"
            ]
          },
          "metadata": {},
          "execution_count": 12
        }
      ]
    },
    {
      "cell_type": "code",
      "metadata": {
        "colab": {
          "base_uri": "https://localhost:8080/"
        },
        "id": "MVkHXd3S-pZT",
        "outputId": "242ad9e1-fcde-4abc-e172-67d65d6c9473"
      },
      "source": [
        "j=list(range(1,6))\n",
        "print('Stored list = ',j)"
      ],
      "execution_count": null,
      "outputs": [
        {
          "output_type": "stream",
          "name": "stdout",
          "text": [
            "Stored list =  [1, 2, 3, 4, 5]\n"
          ]
        }
      ]
    },
    {
      "cell_type": "markdown",
      "metadata": {
        "id": "e8Xq3D6Q_cmu"
      },
      "source": [
        "# Three arguments of range function\n",
        "range(starting, ending, jump)"
      ]
    },
    {
      "cell_type": "code",
      "metadata": {
        "id": "PcLS40Kj_sNd"
      },
      "source": [
        "k=list(range(100,120,2))"
      ],
      "execution_count": 16,
      "outputs": []
    },
    {
      "cell_type": "code",
      "metadata": {
        "colab": {
          "base_uri": "https://localhost:8080/"
        },
        "id": "KZRfaT9G_0X0",
        "outputId": "5ca85c7b-8bb2-4d72-c5a8-600cd471a1af"
      },
      "source": [
        "k"
      ],
      "execution_count": 17,
      "outputs": [
        {
          "output_type": "execute_result",
          "data": {
            "text/plain": [
              "[100, 102, 104, 106, 108, 110, 112, 114, 116, 118]"
            ]
          },
          "metadata": {},
          "execution_count": 17
        }
      ]
    },
    {
      "cell_type": "markdown",
      "metadata": {
        "id": "SztfYUW-AZoM"
      },
      "source": [
        "# Accessing values From list"
      ]
    },
    {
      "cell_type": "code",
      "metadata": {
        "id": "IHXvlxz9AdNf"
      },
      "source": [
        "l=['a','b','c','d','e']"
      ],
      "execution_count": 18,
      "outputs": []
    },
    {
      "cell_type": "code",
      "metadata": {
        "colab": {
          "base_uri": "https://localhost:8080/"
        },
        "id": "dGGkpnhYAn5G",
        "outputId": "ee9e429c-1845-4bb0-bf65-967e36a2c33a"
      },
      "source": [
        "l"
      ],
      "execution_count": 19,
      "outputs": [
        {
          "output_type": "execute_result",
          "data": {
            "text/plain": [
              "['a', 'b', 'c', 'd', 'e']"
            ]
          },
          "metadata": {},
          "execution_count": 19
        }
      ]
    },
    {
      "cell_type": "code",
      "metadata": {
        "colab": {
          "base_uri": "https://localhost:8080/",
          "height": 36
        },
        "id": "Gado2GsaAom8",
        "outputId": "1063085d-e433-4980-9567-b2c902407dac"
      },
      "source": [
        "l[0]"
      ],
      "execution_count": 20,
      "outputs": [
        {
          "output_type": "execute_result",
          "data": {
            "application/vnd.google.colaboratory.intrinsic+json": {
              "type": "string"
            },
            "text/plain": [
              "'a'"
            ]
          },
          "metadata": {},
          "execution_count": 20
        }
      ]
    },
    {
      "cell_type": "code",
      "metadata": {
        "colab": {
          "base_uri": "https://localhost:8080/"
        },
        "id": "Eo2Aha4_As49",
        "outputId": "41612764-3f56-411b-d46e-9a956e77a983"
      },
      "source": [
        "for i in range(5):\n",
        "  print('Your list: ',l[i])"
      ],
      "execution_count": 24,
      "outputs": [
        {
          "output_type": "stream",
          "name": "stdout",
          "text": [
            "Your list:  a\n",
            "Your list:  b\n",
            "Your list:  c\n",
            "Your list:  d\n",
            "Your list:  e\n"
          ]
        }
      ]
    },
    {
      "cell_type": "markdown",
      "metadata": {
        "id": "uMqUMEs4Btk9"
      },
      "source": [
        "# What if negative index number"
      ]
    },
    {
      "cell_type": "code",
      "metadata": {
        "colab": {
          "base_uri": "https://localhost:8080/"
        },
        "id": "XFKTN_aoByxW",
        "outputId": "4e44bf9e-2834-4a11-b1d8-fd7adf726a88"
      },
      "source": [
        "for i in range(5):\n",
        "  print('Your list: ',l[-i])"
      ],
      "execution_count": 25,
      "outputs": [
        {
          "output_type": "stream",
          "name": "stdout",
          "text": [
            "Your list:  a\n",
            "Your list:  e\n",
            "Your list:  d\n",
            "Your list:  c\n",
            "Your list:  b\n"
          ]
        }
      ]
    },
    {
      "cell_type": "markdown",
      "metadata": {
        "id": "AAq_DNtTCj3F"
      },
      "source": [
        "![G suit.jpg](data:image/jpeg;base64,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)"
      ]
    },
    {
      "cell_type": "markdown",
      "metadata": {
        "id": "xDNy2ciCDKF7"
      },
      "source": [
        "# Replacing individual values"
      ]
    },
    {
      "cell_type": "code",
      "metadata": {
        "id": "74AoSKkHDP1r"
      },
      "source": [
        "l[-4]='geda'"
      ],
      "execution_count": 35,
      "outputs": []
    },
    {
      "cell_type": "code",
      "metadata": {
        "colab": {
          "base_uri": "https://localhost:8080/"
        },
        "id": "O1RgPkyKCwO0",
        "outputId": "935cc080-45ad-41ce-eae5-d8e3ebf3bdbe"
      },
      "source": [
        "l"
      ],
      "execution_count": 36,
      "outputs": [
        {
          "output_type": "execute_result",
          "data": {
            "text/plain": [
              "['a', 'geda', 'c', 'd', 'e']"
            ]
          },
          "metadata": {},
          "execution_count": 36
        }
      ]
    }
  ]
}