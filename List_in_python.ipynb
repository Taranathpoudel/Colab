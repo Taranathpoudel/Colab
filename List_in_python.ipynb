{
  "nbformat": 4,
  "nbformat_minor": 0,
  "metadata": {
    "colab": {
      "name": "List in python.ipynb",
      "provenance": [],
      "authorship_tag": "ABX9TyNqrK0H6qxC6r5IK9w+Px00",
      "include_colab_link": true
    },
    "kernelspec": {
      "name": "python3",
      "display_name": "Python 3"
    },
    "language_info": {
      "name": "python"
    }
  },
  "cells": [
    {
      "cell_type": "markdown",
      "metadata": {
        "id": "view-in-github",
        "colab_type": "text"
      },
      "source": [
        "<a href=\"https://colab.research.google.com/github/Taranathpoudel/Proposals/blob/main/List_in_python.ipynb\" target=\"_parent\"><img src=\"https://colab.research.google.com/assets/colab-badge.svg\" alt=\"Open In Colab\"/></a>"
      ]
    },
    {
      "cell_type": "markdown",
      "metadata": {
        "id": "nXgiyLlE7L2i"
      },
      "source": [
        "# Welcome to list"
      ]
    },
    {
      "cell_type": "code",
      "metadata": {
        "id": "izWVIEvI7Or2"
      },
      "source": [
        "Myfirstlist=[1,3,5]"
      ],
      "execution_count": null,
      "outputs": []
    },
    {
      "cell_type": "code",
      "metadata": {
        "colab": {
          "base_uri": "https://localhost:8080/"
        },
        "id": "wMJYX6gg8TFd",
        "outputId": "121e0a80-7ab2-4076-8bec-0a5474c26540"
      },
      "source": [
        "Myfirstlist"
      ],
      "execution_count": null,
      "outputs": [
        {
          "output_type": "execute_result",
          "data": {
            "text/plain": [
              "[1, 3, 5]"
            ]
          },
          "metadata": {},
          "execution_count": 3
        }
      ]
    },
    {
      "cell_type": "code",
      "metadata": {
        "colab": {
          "base_uri": "https://localhost:8080/"
        },
        "id": "8rNeG7ik8WCu",
        "outputId": "bb00b0fb-ddfa-40b2-8aea-7d77d1e4364f"
      },
      "source": [
        "type(Myfirstlist)"
      ],
      "execution_count": null,
      "outputs": [
        {
          "output_type": "execute_result",
          "data": {
            "text/plain": [
              "list"
            ]
          },
          "metadata": {},
          "execution_count": 4
        }
      ]
    },
    {
      "cell_type": "markdown",
      "metadata": {
        "id": "cCjRpbei8lAt"
      },
      "source": [
        "# Variety in lists"
      ]
    },
    {
      "cell_type": "code",
      "metadata": {
        "id": "vW-yU5WO8nqH"
      },
      "source": [
        "l2=['hello',10,False,22.7]"
      ],
      "execution_count": null,
      "outputs": []
    },
    {
      "cell_type": "code",
      "metadata": {
        "colab": {
          "base_uri": "https://localhost:8080/"
        },
        "id": "GEd7biXG8uW1",
        "outputId": "0158e4f5-a2f2-41d7-bafb-611ad140e86d"
      },
      "source": [
        "l2"
      ],
      "execution_count": null,
      "outputs": [
        {
          "output_type": "execute_result",
          "data": {
            "text/plain": [
              "['hello', 10, False, 22.7]"
            ]
          },
          "metadata": {},
          "execution_count": 6
        }
      ]
    },
    {
      "cell_type": "code",
      "metadata": {
        "colab": {
          "base_uri": "https://localhost:8080/"
        },
        "id": "sbBvrdME8vYO",
        "outputId": "be347149-061b-43c7-f758-5f538f94f8cf"
      },
      "source": [
        "type(l2)"
      ],
      "execution_count": null,
      "outputs": [
        {
          "output_type": "execute_result",
          "data": {
            "text/plain": [
              "list"
            ]
          },
          "metadata": {},
          "execution_count": 7
        }
      ]
    },
    {
      "cell_type": "code",
      "metadata": {
        "colab": {
          "base_uri": "https://localhost:8080/"
        },
        "id": "-E6eJQRq9T--",
        "outputId": "a7543a2d-6f0e-4080-810b-9603a8fad52e"
      },
      "source": [
        "range(15)"
      ],
      "execution_count": null,
      "outputs": [
        {
          "output_type": "execute_result",
          "data": {
            "text/plain": [
              "range(0, 15)"
            ]
          },
          "metadata": {},
          "execution_count": 8
        }
      ]
    },
    {
      "cell_type": "markdown",
      "metadata": {
        "id": "2fgf8-pV9mtO"
      },
      "source": [
        "# list Function nested with range"
      ]
    },
    {
      "cell_type": "code",
      "metadata": {
        "colab": {
          "base_uri": "https://localhost:8080/"
        },
        "id": "h5XQ2gZe9W4t",
        "outputId": "7bdb1b39-6b28-4207-ec53-056836962291"
      },
      "source": [
        "list(range(15))"
      ],
      "execution_count": null,
      "outputs": [
        {
          "output_type": "execute_result",
          "data": {
            "text/plain": [
              "[0, 1, 2, 3, 4, 5, 6, 7, 8, 9, 10, 11, 12, 13, 14]"
            ]
          },
          "metadata": {},
          "execution_count": 10
        }
      ]
    },
    {
      "cell_type": "markdown",
      "metadata": {
        "id": "q7dqpN2E-ED9"
      },
      "source": [
        "Assigning Value"
      ]
    },
    {
      "cell_type": "code",
      "metadata": {
        "id": "JKBRgejs-GlM"
      },
      "source": [
        "y=list(range(5))"
      ],
      "execution_count": null,
      "outputs": []
    },
    {
      "cell_type": "code",
      "metadata": {
        "colab": {
          "base_uri": "https://localhost:8080/"
        },
        "id": "bniNmhO8-Lw9",
        "outputId": "2883127b-d332-488e-f194-5fe73fee9092"
      },
      "source": [
        "y"
      ],
      "execution_count": null,
      "outputs": [
        {
          "output_type": "execute_result",
          "data": {
            "text/plain": [
              "[0, 1, 2, 3, 4]"
            ]
          },
          "metadata": {},
          "execution_count": 12
        }
      ]
    },
    {
      "cell_type": "code",
      "metadata": {
        "colab": {
          "base_uri": "https://localhost:8080/"
        },
        "id": "MVkHXd3S-pZT",
        "outputId": "242ad9e1-fcde-4abc-e172-67d65d6c9473"
      },
      "source": [
        "j=list(range(1,6))\n",
        "print('Stored list = ',j)"
      ],
      "execution_count": null,
      "outputs": [
        {
          "output_type": "stream",
          "name": "stdout",
          "text": [
            "Stored list =  [1, 2, 3, 4, 5]\n"
          ]
        }
      ]
    },
    {
      "cell_type": "markdown",
      "metadata": {
        "id": "e8Xq3D6Q_cmu"
      },
      "source": [
        "# Three arguments of range function\n",
        "range(starting, ending, jump)"
      ]
    },
    {
      "cell_type": "code",
      "metadata": {
        "id": "PcLS40Kj_sNd"
      },
      "source": [
        "k=list(range(100,120,2))"
      ],
      "execution_count": 16,
      "outputs": []
    },
    {
      "cell_type": "code",
      "metadata": {
        "colab": {
          "base_uri": "https://localhost:8080/"
        },
        "id": "KZRfaT9G_0X0",
        "outputId": "5ca85c7b-8bb2-4d72-c5a8-600cd471a1af"
      },
      "source": [
        "k"
      ],
      "execution_count": 17,
      "outputs": [
        {
          "output_type": "execute_result",
          "data": {
            "text/plain": [
              "[100, 102, 104, 106, 108, 110, 112, 114, 116, 118]"
            ]
          },
          "metadata": {},
          "execution_count": 17
        }
      ]
    }
  ]
}