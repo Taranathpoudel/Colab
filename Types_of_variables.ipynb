{
  "nbformat": 4,
  "nbformat_minor": 0,
  "metadata": {
    "colab": {
      "name": "Types of variables.ipynb",
      "provenance": [],
      "authorship_tag": "ABX9TyMN9mVfUHY9IyJ8WvRabI1d",
      "include_colab_link": true
    },
    "kernelspec": {
      "name": "python3",
      "display_name": "Python 3"
    },
    "language_info": {
      "name": "python"
    }
  },
  "cells": [
    {
      "cell_type": "markdown",
      "metadata": {
        "id": "view-in-github",
        "colab_type": "text"
      },
      "source": [
        "<a href=\"https://colab.research.google.com/github/Taranathpoudel/Proposals/blob/main/Types_of_variables.ipynb\" target=\"_parent\"><img src=\"https://colab.research.google.com/assets/colab-badge.svg\" alt=\"Open In Colab\"/></a>"
      ]
    },
    {
      "cell_type": "markdown",
      "metadata": {
        "id": "SB3mC0cSoFhv"
      },
      "source": [
        "#integer\n"
      ]
    },
    {
      "cell_type": "code",
      "metadata": {
        "id": "f3O46eVcoLcB"
      },
      "source": [
        "x=2"
      ],
      "execution_count": 3,
      "outputs": []
    },
    {
      "cell_type": "code",
      "metadata": {
        "colab": {
          "base_uri": "https://localhost:8080/"
        },
        "id": "qhWcUS0JojSD",
        "outputId": "232315f9-d58e-466e-9b91-cff56dd1864d"
      },
      "source": [
        "x"
      ],
      "execution_count": 4,
      "outputs": [
        {
          "output_type": "execute_result",
          "data": {
            "text/plain": [
              "2"
            ]
          },
          "metadata": {},
          "execution_count": 4
        }
      ]
    },
    {
      "cell_type": "code",
      "metadata": {
        "colab": {
          "base_uri": "https://localhost:8080/"
        },
        "id": "gCsla5n7olSR",
        "outputId": "47cd6c23-0235-4f65-9357-c62aa718b56e"
      },
      "source": [
        "type(x)"
      ],
      "execution_count": 5,
      "outputs": [
        {
          "output_type": "execute_result",
          "data": {
            "text/plain": [
              "int"
            ]
          },
          "metadata": {},
          "execution_count": 5
        }
      ]
    },
    {
      "cell_type": "markdown",
      "metadata": {
        "id": "DAIVEmecpg3c"
      },
      "source": [
        "Float"
      ]
    },
    {
      "cell_type": "code",
      "metadata": {
        "id": "F2yd8gYypOqy"
      },
      "source": [
        "y=2.5"
      ],
      "execution_count": 6,
      "outputs": []
    },
    {
      "cell_type": "code",
      "metadata": {
        "colab": {
          "base_uri": "https://localhost:8080/"
        },
        "id": "Ep5RCJrkpTDj",
        "outputId": "32ba51eb-30f5-4c41-a42b-cbb0e95a00df"
      },
      "source": [
        "y"
      ],
      "execution_count": 7,
      "outputs": [
        {
          "output_type": "execute_result",
          "data": {
            "text/plain": [
              "2.5"
            ]
          },
          "metadata": {},
          "execution_count": 7
        }
      ]
    },
    {
      "cell_type": "code",
      "metadata": {
        "colab": {
          "base_uri": "https://localhost:8080/"
        },
        "id": "EZwLnBIbpVGJ",
        "outputId": "4e0955a8-eb7a-45d1-8ea8-99f379fbe7dc"
      },
      "source": [
        "type(y)"
      ],
      "execution_count": 8,
      "outputs": [
        {
          "output_type": "execute_result",
          "data": {
            "text/plain": [
              "float"
            ]
          },
          "metadata": {},
          "execution_count": 8
        }
      ]
    },
    {
      "cell_type": "markdown",
      "metadata": {
        "id": "kuv5E2fQqSMj"
      },
      "source": [
        "**String**"
      ]
    },
    {
      "cell_type": "code",
      "metadata": {
        "id": "Qh6-l0UzqZKE"
      },
      "source": [
        "a='Hello world'"
      ],
      "execution_count": 10,
      "outputs": []
    },
    {
      "cell_type": "code",
      "metadata": {
        "colab": {
          "base_uri": "https://localhost:8080/",
          "height": 36
        },
        "id": "GbENLl-EqdAr",
        "outputId": "576a04e1-487f-4a88-ac4a-70bc859c6610"
      },
      "source": [
        "a"
      ],
      "execution_count": 11,
      "outputs": [
        {
          "output_type": "execute_result",
          "data": {
            "application/vnd.google.colaboratory.intrinsic+json": {
              "type": "string"
            },
            "text/plain": [
              "'Hello world'"
            ]
          },
          "metadata": {},
          "execution_count": 11
        }
      ]
    },
    {
      "cell_type": "code",
      "metadata": {
        "colab": {
          "base_uri": "https://localhost:8080/"
        },
        "id": "7HZlBcKOqeXa",
        "outputId": "0de4aba9-ee96-4b35-8ce9-c269830fde91"
      },
      "source": [
        "type(a) "
      ],
      "execution_count": 12,
      "outputs": [
        {
          "output_type": "execute_result",
          "data": {
            "text/plain": [
              "str"
            ]
          },
          "metadata": {},
          "execution_count": 12
        }
      ]
    },
    {
      "cell_type": "markdown",
      "metadata": {
        "id": "fMXGf1erqsJS"
      },
      "source": [
        "**Boolean**"
      ]
    },
    {
      "cell_type": "code",
      "metadata": {
        "id": "lrAqllApqvM6"
      },
      "source": [
        "q1=True"
      ],
      "execution_count": 13,
      "outputs": []
    },
    {
      "cell_type": "code",
      "metadata": {
        "colab": {
          "base_uri": "https://localhost:8080/"
        },
        "id": "d1F0hxw3q1Ca",
        "outputId": "17cc1af2-8ccc-4b35-acbf-3261f9e3552a"
      },
      "source": [
        "q1"
      ],
      "execution_count": 14,
      "outputs": [
        {
          "output_type": "execute_result",
          "data": {
            "text/plain": [
              "True"
            ]
          },
          "metadata": {},
          "execution_count": 14
        }
      ]
    },
    {
      "cell_type": "code",
      "metadata": {
        "colab": {
          "base_uri": "https://localhost:8080/"
        },
        "id": "DypUM0evq2eK",
        "outputId": "cfad2a30-23c4-418a-ae74-3498bef69f77"
      },
      "source": [
        "type(q1)"
      ],
      "execution_count": 15,
      "outputs": [
        {
          "output_type": "execute_result",
          "data": {
            "text/plain": [
              "bool"
            ]
          },
          "metadata": {},
          "execution_count": 15
        }
      ]
    },
    {
      "cell_type": "code",
      "metadata": {
        "id": "EG-l1zQLqrgJ"
      },
      "source": [
        ""
      ],
      "execution_count": null,
      "outputs": []
    }
  ]
}