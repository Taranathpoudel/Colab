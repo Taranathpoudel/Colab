{
  "nbformat": 4,
  "nbformat_minor": 0,
  "metadata": {
    "colab": {
      "name": "using Variables.ipynb",
      "provenance": [],
      "authorship_tag": "ABX9TyNiMFi1Y6dG0tohzM6cXZiR",
      "include_colab_link": true
    },
    "kernelspec": {
      "name": "python3",
      "display_name": "Python 3"
    },
    "language_info": {
      "name": "python"
    }
  },
  "cells": [
    {
      "cell_type": "markdown",
      "metadata": {
        "id": "view-in-github",
        "colab_type": "text"
      },
      "source": [
        "<a href=\"https://colab.research.google.com/github/Taranathpoudel/Proposals/blob/main/using_Variables.ipynb\" target=\"_parent\"><img src=\"https://colab.research.google.com/assets/colab-badge.svg\" alt=\"Open In Colab\"/></a>"
      ]
    },
    {
      "cell_type": "markdown",
      "metadata": {
        "id": "u6HHANcosFBl"
      },
      "source": [
        "Arithimatics"
      ]
    },
    {
      "cell_type": "code",
      "metadata": {
        "id": "8KmlXqbarl1x"
      },
      "source": [
        "A=1024"
      ],
      "execution_count": 10,
      "outputs": []
    },
    {
      "cell_type": "code",
      "metadata": {
        "id": "bUQMrwLOr2xH"
      },
      "source": [
        "B=1000"
      ],
      "execution_count": 11,
      "outputs": []
    },
    {
      "cell_type": "code",
      "metadata": {
        "id": "YjQ76tIwsBRD"
      },
      "source": [
        "C=A+B"
      ],
      "execution_count": 12,
      "outputs": []
    },
    {
      "cell_type": "markdown",
      "metadata": {
        "id": "qroPyHbOsTlD"
      },
      "source": [
        "Printing"
      ]
    },
    {
      "cell_type": "code",
      "metadata": {
        "colab": {
          "base_uri": "https://localhost:8080/"
        },
        "id": "uCRYu3zgsOSI",
        "outputId": "0c2bbfa9-8dbb-4619-e4fb-8e3d244dc989"
      },
      "source": [
        "C"
      ],
      "execution_count": 13,
      "outputs": [
        {
          "output_type": "execute_result",
          "data": {
            "text/plain": [
              "2024"
            ]
          },
          "metadata": {},
          "execution_count": 13
        }
      ]
    },
    {
      "cell_type": "markdown",
      "metadata": {
        "id": "BdkxRTtUsVqy"
      },
      "source": [
        "Printing In Correct way and is different"
      ]
    },
    {
      "cell_type": "code",
      "metadata": {
        "colab": {
          "base_uri": "https://localhost:8080/"
        },
        "id": "lcBscx8zsmXM",
        "outputId": "56b2e432-9365-4275-ec33-fc0bbcb789b5"
      },
      "source": [
        "print(C) #different"
      ],
      "execution_count": 14,
      "outputs": [
        {
          "output_type": "stream",
          "name": "stdout",
          "text": [
            "2024\n"
          ]
        }
      ]
    },
    {
      "cell_type": "code",
      "metadata": {
        "id": "_XzxS8ZjsrxV"
      },
      "source": [
        "D=B/A"
      ],
      "execution_count": 18,
      "outputs": []
    },
    {
      "cell_type": "code",
      "metadata": {
        "colab": {
          "base_uri": "https://localhost:8080/"
        },
        "id": "MBrybBn8s_Ba",
        "outputId": "3b0d7483-603c-40ef-8334-ba1a24820f3c"
      },
      "source": [
        "print(D)"
      ],
      "execution_count": 19,
      "outputs": [
        {
          "output_type": "stream",
          "name": "stdout",
          "text": [
            "0.9765625\n"
          ]
        }
      ]
    },
    {
      "cell_type": "markdown",
      "metadata": {
        "id": "BZXD9Oymt8jL"
      },
      "source": [
        "Square Root Operation"
      ]
    },
    {
      "cell_type": "code",
      "metadata": {
        "id": "ouDER_4JuA9M"
      },
      "source": [
        "E=20"
      ],
      "execution_count": 20,
      "outputs": []
    },
    {
      "cell_type": "code",
      "metadata": {
        "id": "q52UOBF3u1aU"
      },
      "source": [
        "import math"
      ],
      "execution_count": 22,
      "outputs": []
    },
    {
      "cell_type": "code",
      "metadata": {
        "id": "BO9C7WKmuEfh"
      },
      "source": [
        "F=math.sqrt(E)"
      ],
      "execution_count": 26,
      "outputs": []
    },
    {
      "cell_type": "code",
      "metadata": {
        "colab": {
          "base_uri": "https://localhost:8080/"
        },
        "id": "q6hJYrzuvMV5",
        "outputId": "7ab85b88-6175-46f0-9006-7b29022c0264"
      },
      "source": [
        "print(F )"
      ],
      "execution_count": 27,
      "outputs": [
        {
          "output_type": "stream",
          "name": "stdout",
          "text": [
            "4.47213595499958\n"
          ]
        }
      ]
    },
    {
      "cell_type": "code",
      "metadata": {
        "colab": {
          "base_uri": "https://localhost:8080/"
        },
        "id": "Gcv18zYovZ_F",
        "outputId": "dafc6b0a-1ed9-441a-8ef8-88b112f9c259"
      },
      "source": [
        "round(F)"
      ],
      "execution_count": 28,
      "outputs": [
        {
          "output_type": "execute_result",
          "data": {
            "text/plain": [
              "4"
            ]
          },
          "metadata": {},
          "execution_count": 28
        }
      ]
    },
    {
      "cell_type": "markdown",
      "metadata": {
        "id": "legpZiYZz07a"
      },
      "source": [
        "Strings"
      ]
    },
    {
      "cell_type": "code",
      "metadata": {
        "id": "iu4b7-8Bz6FP"
      },
      "source": [
        "greetings='hello'\n",
        "name='bob'"
      ],
      "execution_count": 29,
      "outputs": []
    },
    {
      "cell_type": "code",
      "metadata": {
        "id": "oOQvhGnL0FYe"
      },
      "source": [
        "message=greetings+' '+name"
      ],
      "execution_count": 32,
      "outputs": []
    },
    {
      "cell_type": "code",
      "metadata": {
        "colab": {
          "base_uri": "https://localhost:8080/"
        },
        "id": "7Cr3POUu0QMG",
        "outputId": "c797d32f-3e2d-4ba6-c74f-3088ee946561"
      },
      "source": [
        "print(message)"
      ],
      "execution_count": 33,
      "outputs": [
        {
          "output_type": "stream",
          "name": "stdout",
          "text": [
            "hello bob\n"
          ]
        }
      ]
    }
  ]
}