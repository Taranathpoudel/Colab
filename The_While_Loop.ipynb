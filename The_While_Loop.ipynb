{
  "nbformat": 4,
  "nbformat_minor": 0,
  "metadata": {
    "colab": {
      "name": "The While Loop.ipynb",
      "provenance": [],
      "authorship_tag": "ABX9TyMs8WOZWtkUFxo3/lRYkhvl",
      "include_colab_link": true
    },
    "kernelspec": {
      "name": "python3",
      "display_name": "Python 3"
    },
    "language_info": {
      "name": "python"
    }
  },
  "cells": [
    {
      "cell_type": "markdown",
      "metadata": {
        "id": "view-in-github",
        "colab_type": "text"
      },
      "source": [
        "<a href=\"https://colab.research.google.com/github/Taranathpoudel/Proposals/blob/main/The_While_Loop.ipynb\" target=\"_parent\"><img src=\"https://colab.research.google.com/assets/colab-badge.svg\" alt=\"Open In Colab\"/></a>"
      ]
    },
    {
      "cell_type": "markdown",
      "metadata": {
        "id": "CuWpV4G25eMz"
      },
      "source": [
        "Loops"
      ]
    },
    {
      "cell_type": "code",
      "metadata": {
        "id": "n2c1knCT5kl2"
      },
      "source": [
        "while False:\n",
        "  print('hello')"
      ],
      "execution_count": 2,
      "outputs": []
    },
    {
      "cell_type": "code",
      "metadata": {
        "colab": {
          "base_uri": "https://localhost:8080/"
        },
        "id": "xe6QxFfO7Jy4",
        "outputId": "3e24a5e3-afe0-49de-e4f2-69aa3ab02cc4"
      },
      "source": [
        "counter=0\n",
        "while counter<=12:\n",
        "  if counter>3:\n",
        "    print('Good')\n",
        "  print(counter)\n",
        "  counter=counter+1\n",
        "  "
      ],
      "execution_count": 18,
      "outputs": [
        {
          "output_type": "stream",
          "name": "stdout",
          "text": [
            "0\n",
            "1\n",
            "2\n",
            "3\n",
            "Good\n",
            "4\n",
            "Good\n",
            "5\n",
            "Good\n",
            "6\n",
            "Good\n",
            "7\n",
            "Good\n",
            "8\n",
            "Good\n",
            "9\n",
            "Good\n",
            "10\n",
            "Good\n",
            "11\n",
            "Good\n",
            "12\n"
          ]
        }
      ]
    }
  ]
}