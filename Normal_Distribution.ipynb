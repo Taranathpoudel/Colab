{
  "nbformat": 4,
  "nbformat_minor": 0,
  "metadata": {
    "colab": {
      "name": "Normal Distribution.ipynb",
      "provenance": [],
      "authorship_tag": "ABX9TyPdwM8LFVpF1u4HiK2BseKD",
      "include_colab_link": true
    },
    "kernelspec": {
      "name": "python3",
      "display_name": "Python 3"
    },
    "language_info": {
      "name": "python"
    }
  },
  "cells": [
    {
      "cell_type": "markdown",
      "metadata": {
        "id": "view-in-github",
        "colab_type": "text"
      },
      "source": [
        "<a href=\"https://colab.research.google.com/github/Taranathpoudel/Proposals/blob/main/Normal_Distribution.ipynb\" target=\"_parent\"><img src=\"https://colab.research.google.com/assets/colab-badge.svg\" alt=\"Open In Colab\"/></a>"
      ]
    },
    {
      "cell_type": "markdown",
      "metadata": {
        "id": "ZqDls7k-HIsJ"
      },
      "source": [
        "# Python Script To Check Law of large numbers and Normal distribution"
      ]
    },
    {
      "cell_type": "code",
      "metadata": {
        "colab": {
          "base_uri": "https://localhost:8080/"
        },
        "id": "ZhzsLiJOHUI3",
        "outputId": "3c5f5af5-09ee-4563-c2b5-6cca3aa17749"
      },
      "source": [
        "mean=0\n",
        "std=1\n",
        "count=0\n",
        "T=0\n",
        "S=0\n",
        "U=0\n",
        "V=0\n",
        "i=0\n",
        "\n",
        "import numpy as np\n",
        "from numpy.random import randn\n",
        "x=randn()\n",
        "\n",
        "while x>=-1 and x<=1:\n",
        "  count=count+1\n",
        "  print('value: ',x)\n",
        "  x=randn()\n",
        "  i=i+1\n",
        "\n",
        "while x>=-2 and x<=-1:\n",
        "  T=T+1\n",
        "  print('value: ',x)\n",
        "  x=randn()\n",
        "  i=i+1\n",
        "\n",
        "while x>=-3 and x<=-2:\n",
        "  S=S+1\n",
        "  print('value: ',x)\n",
        "  x=randn()\n",
        "  i=i+1\n",
        "\n",
        "while x>=1 and x<=2:\n",
        "  U=U+1\n",
        "  print('value: ',x)\n",
        "  x=randn()\n",
        "  i=i+1\n",
        "\n",
        "while x>=2 and x<=3:\n",
        "  V=V+1\n",
        "  print('value: ',x)\n",
        "  x=randn()\n",
        "  i=i+1\n",
        "\n",
        "\n",
        "print('The numbers between -3 and -2 is: ',S)\n",
        "print('The numbers between -2 and -1 is: ',T)\n",
        "print('The numbers between -1 and 1 is: ',count)\n",
        "print('The numbers between 1 and 2 is: ',U)\n",
        "print('The numbers between 2 and 3 is: ',V)\n",
        "print('Total iteration: ',i)\n"
      ],
      "execution_count": 33,
      "outputs": [
        {
          "output_type": "stream",
          "name": "stdout",
          "text": [
            "value:  -0.8899314268979304\n",
            "value:  -0.3589169631119302\n",
            "value:  0.6509189559480711\n",
            "value:  1.4889606059788016\n",
            "value:  2.7997843244616916\n",
            "The numbers between -3 and -2 is:  0\n",
            "The numbers between -2 and -1 is:  0\n",
            "The numbers between -1 and 1 is:  3\n",
            "The numbers between 1 and 2 is:  1\n",
            "The numbers between 2 and 3 is:  1\n",
            "Total iteration:  5\n"
          ]
        }
      ]
    }
  ]
}