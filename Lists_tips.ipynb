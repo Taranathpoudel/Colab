{
  "nbformat": 4,
  "nbformat_minor": 0,
  "metadata": {
    "colab": {
      "name": "Lists tips.ipynb",
      "provenance": [],
      "authorship_tag": "ABX9TyO1imZ4emK7vQE0Pxb8drGn",
      "include_colab_link": true
    },
    "kernelspec": {
      "name": "python3",
      "display_name": "Python 3"
    },
    "language_info": {
      "name": "python"
    }
  },
  "cells": [
    {
      "cell_type": "markdown",
      "metadata": {
        "id": "view-in-github",
        "colab_type": "text"
      },
      "source": [
        "<a href=\"https://colab.research.google.com/github/Taranathpoudel/Proposals/blob/main/Lists_tips.ipynb\" target=\"_parent\"><img src=\"https://colab.research.google.com/assets/colab-badge.svg\" alt=\"Open In Colab\"/></a>"
      ]
    },
    {
      "cell_type": "markdown",
      "metadata": {
        "id": "QSZHJhJORF6T"
      },
      "source": [
        "# Here is more on lists tricks"
      ]
    },
    {
      "cell_type": "markdown",
      "metadata": {
        "id": "qvVk_uhKSzHq"
      },
      "source": [
        "Note that the index start from 0 while count starts from 1"
      ]
    },
    {
      "cell_type": "code",
      "metadata": {
        "id": "Aggp_0-0RKPX"
      },
      "source": [
        "# let us define a list\n",
        "fruits=['apple','banana','maple','kiwi','mango','apple','banana']"
      ],
      "execution_count": 12,
      "outputs": []
    },
    {
      "cell_type": "code",
      "metadata": {
        "colab": {
          "base_uri": "https://localhost:8080/"
        },
        "id": "yfeQi1RIRbCK",
        "outputId": "c955ca6f-ef5b-485f-a5ae-df0e124fd3bd"
      },
      "source": [
        "# to count index\n",
        "fruits.count('apple')"
      ],
      "execution_count": 5,
      "outputs": [
        {
          "output_type": "execute_result",
          "data": {
            "text/plain": [
              "1"
            ]
          },
          "metadata": {},
          "execution_count": 5
        }
      ]
    },
    {
      "cell_type": "code",
      "metadata": {
        "colab": {
          "base_uri": "https://localhost:8080/"
        },
        "id": "Bv7he_wfR6dD",
        "outputId": "f1604f94-a1d6-4725-d144-577080d4fa6b"
      },
      "source": [
        "# returns 0 if outside items is included\n",
        "fruits.count('cherry')"
      ],
      "execution_count": 14,
      "outputs": [
        {
          "output_type": "execute_result",
          "data": {
            "text/plain": [
              "0"
            ]
          },
          "metadata": {},
          "execution_count": 14
        }
      ]
    },
    {
      "cell_type": "code",
      "metadata": {
        "colab": {
          "base_uri": "https://localhost:8080/"
        },
        "id": "2dRGznowSSQS",
        "outputId": "780955d6-fe04-4cc7-a16a-03f0d8652814"
      },
      "source": [
        "fruits.index('apple')"
      ],
      "execution_count": 13,
      "outputs": [
        {
          "output_type": "execute_result",
          "data": {
            "text/plain": [
              "0"
            ]
          },
          "metadata": {},
          "execution_count": 13
        }
      ]
    },
    {
      "cell_type": "code",
      "metadata": {
        "colab": {
          "base_uri": "https://localhost:8080/"
        },
        "id": "TbkMP9JfS7XL",
        "outputId": "317d6f7b-cb28-472c-b6b3-32bacee287dc"
      },
      "source": [
        "# returns making first apple as reference\n",
        "# name.index('item_name',item_position)\n",
        "fruits.index('apple',1)"
      ],
      "execution_count": 16,
      "outputs": [
        {
          "output_type": "execute_result",
          "data": {
            "text/plain": [
              "5"
            ]
          },
          "metadata": {},
          "execution_count": 16
        }
      ]
    },
    {
      "cell_type": "markdown",
      "metadata": {
        "id": "EeSb8G2CTZTq"
      },
      "source": [
        "# Reversing The list"
      ]
    },
    {
      "cell_type": "code",
      "metadata": {
        "id": "IFbiNDNPTcT5"
      },
      "source": [
        "fruits.reverse()"
      ],
      "execution_count": 19,
      "outputs": []
    },
    {
      "cell_type": "code",
      "metadata": {
        "colab": {
          "base_uri": "https://localhost:8080/"
        },
        "id": "mDEDDsnvTgCx",
        "outputId": "875f70ab-8c3e-4eb3-a439-1df4226f7517"
      },
      "source": [
        "fruits"
      ],
      "execution_count": 20,
      "outputs": [
        {
          "output_type": "execute_result",
          "data": {
            "text/plain": [
              "['banana', 'apple', 'mango', 'kiwi', 'maple', 'banana', 'apple']"
            ]
          },
          "metadata": {},
          "execution_count": 20
        }
      ]
    },
    {
      "cell_type": "markdown",
      "metadata": {
        "id": "EG9sauNCTraj"
      },
      "source": [
        "# Appending an Item to the list"
      ]
    },
    {
      "cell_type": "code",
      "metadata": {
        "id": "IDOKYpLtTv4N"
      },
      "source": [
        "# Appends at last position\n",
        "fruits.append('grape')"
      ],
      "execution_count": 44,
      "outputs": []
    },
    {
      "cell_type": "code",
      "metadata": {
        "colab": {
          "base_uri": "https://localhost:8080/"
        },
        "id": "SPsVa2clT6mR",
        "outputId": "58734762-9898-41db-a8b9-bcfce56f2ea1"
      },
      "source": [
        "fruits"
      ],
      "execution_count": 45,
      "outputs": [
        {
          "output_type": "execute_result",
          "data": {
            "text/plain": [
              "['banana',\n",
              " 'apple',\n",
              " 'mango',\n",
              " 'kiwi',\n",
              " 'maple',\n",
              " 'banana',\n",
              " 'apple',\n",
              " 'grape',\n",
              " 'grape',\n",
              " 'grape',\n",
              " 'grape',\n",
              " 'grape',\n",
              " 'grape',\n",
              " 'grape']"
            ]
          },
          "metadata": {},
          "execution_count": 45
        }
      ]
    },
    {
      "cell_type": "code",
      "metadata": {
        "id": "9QkvE1BVUNrA"
      },
      "source": [
        "del fruits[8]"
      ],
      "execution_count": 48,
      "outputs": []
    },
    {
      "cell_type": "code",
      "metadata": {
        "colab": {
          "base_uri": "https://localhost:8080/"
        },
        "id": "moRMyQWJUUSS",
        "outputId": "0a805c82-7ada-4523-cb23-b2aaf8deb01c"
      },
      "source": [
        "fruits"
      ],
      "execution_count": 49,
      "outputs": [
        {
          "output_type": "execute_result",
          "data": {
            "text/plain": [
              "['banana', 'apple', 'mango', 'kiwi', 'maple', 'banana', 'apple', 'grape']"
            ]
          },
          "metadata": {},
          "execution_count": 49
        }
      ]
    },
    {
      "cell_type": "markdown",
      "metadata": {
        "id": "30B8i0V0VBJ5"
      },
      "source": [
        "# pop function returns and deletes last item"
      ]
    },
    {
      "cell_type": "code",
      "metadata": {
        "colab": {
          "base_uri": "https://localhost:8080/",
          "height": 36
        },
        "id": "9oND5SSuVH_Y",
        "outputId": "bfe265b3-02ce-4d6f-d8a3-eb1272b26ba1"
      },
      "source": [
        "fruits.pop()"
      ],
      "execution_count": 50,
      "outputs": [
        {
          "output_type": "execute_result",
          "data": {
            "application/vnd.google.colaboratory.intrinsic+json": {
              "type": "string"
            },
            "text/plain": [
              "'grape'"
            ]
          },
          "metadata": {},
          "execution_count": 50
        }
      ]
    },
    {
      "cell_type": "code",
      "metadata": {
        "colab": {
          "base_uri": "https://localhost:8080/"
        },
        "id": "_OFJKV5OVMGE",
        "outputId": "2039c01a-634b-4d1b-96bc-c1527d237eed"
      },
      "source": [
        "fruits"
      ],
      "execution_count": 51,
      "outputs": [
        {
          "output_type": "execute_result",
          "data": {
            "text/plain": [
              "['banana', 'apple', 'mango', 'kiwi', 'maple', 'banana', 'apple']"
            ]
          },
          "metadata": {},
          "execution_count": 51
        }
      ]
    }
  ]
}