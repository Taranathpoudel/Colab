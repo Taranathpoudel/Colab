{
  "nbformat": 4,
  "nbformat_minor": 0,
  "metadata": {
    "colab": {
      "name": "Lists tips.ipynb",
      "provenance": [],
      "authorship_tag": "ABX9TyOiSNF3mzEYfd6xAuDpmqDB",
      "include_colab_link": true
    },
    "kernelspec": {
      "name": "python3",
      "display_name": "Python 3"
    },
    "language_info": {
      "name": "python"
    }
  },
  "cells": [
    {
      "cell_type": "markdown",
      "metadata": {
        "id": "view-in-github",
        "colab_type": "text"
      },
      "source": [
        "<a href=\"https://colab.research.google.com/github/Taranathpoudel/Proposals/blob/main/Lists_tips.ipynb\" target=\"_parent\"><img src=\"https://colab.research.google.com/assets/colab-badge.svg\" alt=\"Open In Colab\"/></a>"
      ]
    },
    {
      "cell_type": "markdown",
      "metadata": {
        "id": "QSZHJhJORF6T"
      },
      "source": [
        "# Here is more on lists tricks"
      ]
    },
    {
      "cell_type": "markdown",
      "metadata": {
        "id": "qvVk_uhKSzHq"
      },
      "source": [
        "Note that the index start from 0 while count starts from 1"
      ]
    },
    {
      "cell_type": "code",
      "metadata": {
        "id": "Aggp_0-0RKPX"
      },
      "source": [
        "# let us define a list\n",
        "fruits=['apple','banana','maple','kiwi','mango','apple','banana']"
      ],
      "execution_count": 2,
      "outputs": []
    },
    {
      "cell_type": "code",
      "metadata": {
        "colab": {
          "base_uri": "https://localhost:8080/"
        },
        "id": "yfeQi1RIRbCK",
        "outputId": "6f507d98-a32f-4647-a6e2-7964b39453ce"
      },
      "source": [
        "# to count index\n",
        "fruits.count('apple')"
      ],
      "execution_count": 4,
      "outputs": [
        {
          "output_type": "execute_result",
          "data": {
            "text/plain": [
              "2"
            ]
          },
          "metadata": {},
          "execution_count": 4
        }
      ]
    },
    {
      "cell_type": "code",
      "metadata": {
        "colab": {
          "base_uri": "https://localhost:8080/"
        },
        "id": "Bv7he_wfR6dD",
        "outputId": "ff3fbbbf-be0c-4363-9863-20bed68707dd"
      },
      "source": [
        "# returns 0 if outside items is included\n",
        "fruits.count('cherry')"
      ],
      "execution_count": 5,
      "outputs": [
        {
          "output_type": "execute_result",
          "data": {
            "text/plain": [
              "0"
            ]
          },
          "metadata": {},
          "execution_count": 5
        }
      ]
    },
    {
      "cell_type": "code",
      "metadata": {
        "colab": {
          "base_uri": "https://localhost:8080/"
        },
        "id": "2dRGznowSSQS",
        "outputId": "f188b478-acc9-4f16-d430-0866c55b67bf"
      },
      "source": [
        "fruits.index('apple')"
      ],
      "execution_count": 6,
      "outputs": [
        {
          "output_type": "execute_result",
          "data": {
            "text/plain": [
              "0"
            ]
          },
          "metadata": {},
          "execution_count": 6
        }
      ]
    },
    {
      "cell_type": "code",
      "metadata": {
        "colab": {
          "base_uri": "https://localhost:8080/"
        },
        "id": "TbkMP9JfS7XL",
        "outputId": "27cfc69c-16b0-4837-bc01-ddfea67c8f6f"
      },
      "source": [
        "# returns making first apple as reference\n",
        "# name.index('item_name',item_position)\n",
        "fruits.index('apple',1)"
      ],
      "execution_count": 7,
      "outputs": [
        {
          "output_type": "execute_result",
          "data": {
            "text/plain": [
              "5"
            ]
          },
          "metadata": {},
          "execution_count": 7
        }
      ]
    },
    {
      "cell_type": "markdown",
      "metadata": {
        "id": "EeSb8G2CTZTq"
      },
      "source": [
        "# Reversing The list"
      ]
    },
    {
      "cell_type": "code",
      "metadata": {
        "id": "IFbiNDNPTcT5"
      },
      "source": [
        "fruits.reverse()"
      ],
      "execution_count": 8,
      "outputs": []
    },
    {
      "cell_type": "code",
      "metadata": {
        "colab": {
          "base_uri": "https://localhost:8080/"
        },
        "id": "mDEDDsnvTgCx",
        "outputId": "fa85af73-da8d-4718-cfc4-0b33774d37b9"
      },
      "source": [
        "fruits"
      ],
      "execution_count": 9,
      "outputs": [
        {
          "output_type": "execute_result",
          "data": {
            "text/plain": [
              "['banana', 'apple', 'mango', 'kiwi', 'maple', 'banana', 'apple']"
            ]
          },
          "metadata": {},
          "execution_count": 9
        }
      ]
    },
    {
      "cell_type": "markdown",
      "metadata": {
        "id": "EG9sauNCTraj"
      },
      "source": [
        "# Appending an Item to the list"
      ]
    },
    {
      "cell_type": "code",
      "metadata": {
        "id": "IDOKYpLtTv4N"
      },
      "source": [
        "# Appends at last position\n",
        "fruits.append('grape')"
      ],
      "execution_count": 10,
      "outputs": []
    },
    {
      "cell_type": "code",
      "metadata": {
        "colab": {
          "base_uri": "https://localhost:8080/"
        },
        "id": "SPsVa2clT6mR",
        "outputId": "7c18abf3-6edc-415e-a182-afcce8ce52cb"
      },
      "source": [
        "fruits"
      ],
      "execution_count": 11,
      "outputs": [
        {
          "output_type": "execute_result",
          "data": {
            "text/plain": [
              "['banana', 'apple', 'mango', 'kiwi', 'maple', 'banana', 'apple', 'grape']"
            ]
          },
          "metadata": {},
          "execution_count": 11
        }
      ]
    },
    {
      "cell_type": "code",
      "metadata": {
        "colab": {
          "base_uri": "https://localhost:8080/"
        },
        "id": "moRMyQWJUUSS",
        "outputId": "97ba87fe-97c0-423d-ba3e-e3b4a83db789"
      },
      "source": [
        "fruits"
      ],
      "execution_count": 14,
      "outputs": [
        {
          "output_type": "execute_result",
          "data": {
            "text/plain": [
              "['banana', 'apple', 'mango', 'kiwi', 'maple', 'banana', 'apple']"
            ]
          },
          "metadata": {},
          "execution_count": 14
        }
      ]
    },
    {
      "cell_type": "markdown",
      "metadata": {
        "id": "30B8i0V0VBJ5"
      },
      "source": [
        "# pop function returns and deletes last item"
      ]
    },
    {
      "cell_type": "code",
      "metadata": {
        "colab": {
          "base_uri": "https://localhost:8080/",
          "height": 36
        },
        "id": "9oND5SSuVH_Y",
        "outputId": "eb24515f-888d-4daa-f0bd-bcbcb32443a5"
      },
      "source": [
        "fruits.pop()"
      ],
      "execution_count": 12,
      "outputs": [
        {
          "output_type": "execute_result",
          "data": {
            "application/vnd.google.colaboratory.intrinsic+json": {
              "type": "string"
            },
            "text/plain": [
              "'grape'"
            ]
          },
          "metadata": {},
          "execution_count": 12
        }
      ]
    },
    {
      "cell_type": "code",
      "metadata": {
        "colab": {
          "base_uri": "https://localhost:8080/"
        },
        "id": "_OFJKV5OVMGE",
        "outputId": "aaf713d4-7193-45b7-bd92-cefb6a76fd15"
      },
      "source": [
        "fruits"
      ],
      "execution_count": 13,
      "outputs": [
        {
          "output_type": "execute_result",
          "data": {
            "text/plain": [
              "['banana', 'apple', 'mango', 'kiwi', 'maple', 'banana', 'apple']"
            ]
          },
          "metadata": {},
          "execution_count": 13
        }
      ]
    },
    {
      "cell_type": "markdown",
      "metadata": {
        "id": "aUzQSXK-fEzb"
      },
      "source": [
        "# removing from list"
      ]
    },
    {
      "cell_type": "markdown",
      "metadata": {
        "id": "R6g9Aqq6gAxo"
      },
      "source": [
        "Unlike delete del function it requires the name of item only"
      ]
    },
    {
      "cell_type": "code",
      "metadata": {
        "colab": {
          "base_uri": "https://localhost:8080/"
        },
        "id": "U7FA0WdpfemZ",
        "outputId": "934d005b-154b-4283-da6a-2fa339fc9be1"
      },
      "source": [
        "fruits"
      ],
      "execution_count": 18,
      "outputs": [
        {
          "output_type": "execute_result",
          "data": {
            "text/plain": [
              "['banana', 'apple', 'mango', 'kiwi', 'maple', 'banana', 'apple']"
            ]
          },
          "metadata": {},
          "execution_count": 18
        }
      ]
    },
    {
      "cell_type": "code",
      "metadata": {
        "id": "LxJC7TLQfmtg"
      },
      "source": [
        "fruits.remove('banana')"
      ],
      "execution_count": 20,
      "outputs": []
    },
    {
      "cell_type": "code",
      "metadata": {
        "colab": {
          "base_uri": "https://localhost:8080/"
        },
        "id": "0MBMbheyfzJF",
        "outputId": "13b612a6-db75-4bd5-d409-99708f79dae8"
      },
      "source": [
        "fruits"
      ],
      "execution_count": 21,
      "outputs": [
        {
          "output_type": "execute_result",
          "data": {
            "text/plain": [
              "['apple', 'mango', 'kiwi', 'maple', 'banana', 'apple']"
            ]
          },
          "metadata": {},
          "execution_count": 21
        }
      ]
    },
    {
      "cell_type": "code",
      "metadata": {
        "id": "6ePI5KPNf2Kf"
      },
      "source": [
        "fruits.remove('banana')"
      ],
      "execution_count": 22,
      "outputs": []
    },
    {
      "cell_type": "code",
      "metadata": {
        "colab": {
          "base_uri": "https://localhost:8080/"
        },
        "id": "YcPT15Eif6ug",
        "outputId": "661402b5-13fc-405f-cbfe-0410bc6e1c5f"
      },
      "source": [
        "fruits"
      ],
      "execution_count": 24,
      "outputs": [
        {
          "output_type": "execute_result",
          "data": {
            "text/plain": [
              "['apple', 'mango', 'kiwi', 'maple', 'apple']"
            ]
          },
          "metadata": {},
          "execution_count": 24
        }
      ]
    },
    {
      "cell_type": "markdown",
      "metadata": {
        "id": "KlIAtKs3gJav"
      },
      "source": [
        "# list.clear() Removes all or clear the list equivalent to del a[:]"
      ]
    },
    {
      "cell_type": "code",
      "metadata": {
        "id": "zdxz6iy3gZDo"
      },
      "source": [
        "# let us define a list\n",
        "fruits=['apple','banana','maple','kiwi','mango','apple','banana']"
      ],
      "execution_count": 32,
      "outputs": []
    },
    {
      "cell_type": "code",
      "metadata": {
        "colab": {
          "base_uri": "https://localhost:8080/"
        },
        "id": "Sno7bfeWgfLP",
        "outputId": "fe574b5e-98b1-4c7c-c553-8fd7968f34ea"
      },
      "source": [
        "fruits"
      ],
      "execution_count": 28,
      "outputs": [
        {
          "output_type": "execute_result",
          "data": {
            "text/plain": [
              "['apple', 'banana', 'maple', 'kiwi', 'mango', 'apple', 'banana']"
            ]
          },
          "metadata": {},
          "execution_count": 28
        }
      ]
    },
    {
      "cell_type": "code",
      "metadata": {
        "id": "fQsczN3Igki6"
      },
      "source": [
        "fruits.clear()"
      ],
      "execution_count": 29,
      "outputs": []
    },
    {
      "cell_type": "code",
      "metadata": {
        "colab": {
          "base_uri": "https://localhost:8080/"
        },
        "id": "PNID-fSRgnpn",
        "outputId": "0858036e-8f97-4911-9481-e5b0f43e3a89"
      },
      "source": [
        "fruits"
      ],
      "execution_count": 31,
      "outputs": [
        {
          "output_type": "execute_result",
          "data": {
            "text/plain": [
              "[]"
            ]
          },
          "metadata": {},
          "execution_count": 31
        }
      ]
    },
    {
      "cell_type": "code",
      "metadata": {
        "id": "7wezxdQpgui4"
      },
      "source": [
        "# let us define a list\n",
        "fruits=['apple','banana','maple','kiwi','mango','apple','banana']"
      ],
      "execution_count": 33,
      "outputs": []
    },
    {
      "cell_type": "code",
      "metadata": {
        "colab": {
          "base_uri": "https://localhost:8080/"
        },
        "id": "xho5eiRogv4J",
        "outputId": "0cce0f72-24a5-4ceb-a605-66a48abc3694"
      },
      "source": [
        "fruits"
      ],
      "execution_count": 34,
      "outputs": [
        {
          "output_type": "execute_result",
          "data": {
            "text/plain": [
              "['apple', 'banana', 'maple', 'kiwi', 'mango', 'apple', 'banana']"
            ]
          },
          "metadata": {},
          "execution_count": 34
        }
      ]
    },
    {
      "cell_type": "code",
      "metadata": {
        "id": "DFlTIBoXgx_C"
      },
      "source": [
        "del fruits[:]"
      ],
      "execution_count": 35,
      "outputs": []
    },
    {
      "cell_type": "code",
      "metadata": {
        "colab": {
          "base_uri": "https://localhost:8080/"
        },
        "id": "1Eb-WcR9g1Z3",
        "outputId": "c3debef0-594d-4e8f-8f49-a4a507971616"
      },
      "source": [
        "fruits"
      ],
      "execution_count": 36,
      "outputs": [
        {
          "output_type": "execute_result",
          "data": {
            "text/plain": [
              "[]"
            ]
          },
          "metadata": {},
          "execution_count": 36
        }
      ]
    },
    {
      "cell_type": "markdown",
      "metadata": {
        "id": "LCXGnTmjg_k3"
      },
      "source": [
        "# sorting Alphabetically"
      ]
    },
    {
      "cell_type": "code",
      "metadata": {
        "id": "8ej_BhWqhJ7N"
      },
      "source": [
        "# let us define a list\n",
        "fruits=['apple','banana','maple','kiwi','mango','apple','banana']"
      ],
      "execution_count": 37,
      "outputs": []
    },
    {
      "cell_type": "code",
      "metadata": {
        "id": "SwhftjFwhLyP"
      },
      "source": [
        "fruits.sort()"
      ],
      "execution_count": 43,
      "outputs": []
    },
    {
      "cell_type": "code",
      "metadata": {
        "colab": {
          "base_uri": "https://localhost:8080/"
        },
        "id": "4E5oahXUhOlX",
        "outputId": "7e8f8f76-dd86-4fe0-cd96-92bcc8104dd6"
      },
      "source": [
        "fruits"
      ],
      "execution_count": 39,
      "outputs": [
        {
          "output_type": "execute_result",
          "data": {
            "text/plain": [
              "['apple', 'apple', 'banana', 'banana', 'kiwi', 'mango', 'maple']"
            ]
          },
          "metadata": {},
          "execution_count": 39
        }
      ]
    },
    {
      "cell_type": "code",
      "metadata": {
        "colab": {
          "base_uri": "https://localhost:8080/"
        },
        "id": "YlWgvydHhs-i",
        "outputId": "5af9ec65-b3ff-4491-e0ba-b67037803493"
      },
      "source": [
        "fruits.copy()"
      ],
      "execution_count": 44,
      "outputs": [
        {
          "output_type": "execute_result",
          "data": {
            "text/plain": [
              "['apple', 'apple', 'banana', 'banana', 'kiwi', 'mango', 'maple']"
            ]
          },
          "metadata": {},
          "execution_count": 44
        }
      ]
    },
    {
      "cell_type": "code",
      "metadata": {
        "colab": {
          "base_uri": "https://localhost:8080/"
        },
        "id": "TNigPd8chxNr",
        "outputId": "e81dcfbf-e22e-485c-8864-5d437f8cae74"
      },
      "source": [
        "fruits[:]"
      ],
      "execution_count": 46,
      "outputs": [
        {
          "output_type": "execute_result",
          "data": {
            "text/plain": [
              "['apple', 'apple', 'banana', 'banana', 'kiwi', 'mango', 'maple']"
            ]
          },
          "metadata": {},
          "execution_count": 46
        }
      ]
    }
  ]
}